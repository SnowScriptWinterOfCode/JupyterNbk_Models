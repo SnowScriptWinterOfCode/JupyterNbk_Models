{
  "nbformat": 4,
  "nbformat_minor": 0,
  "metadata": {
    "colab": {
      "provenance": []
    },
    "kernelspec": {
      "name": "python3",
      "display_name": "Python 3"
    },
    "language_info": {
      "name": "python"
    }
  },
  "cells": [
    {
      "cell_type": "markdown",
      "source": [
        "**Step 1:Importing Neccessary libraries**"
      ],
      "metadata": {
        "id": "0Un_GR3tXy27"
      }
    },
    {
      "cell_type": "code",
      "execution_count": 1,
      "metadata": {
        "id": "H56pYguJXW0W"
      },
      "outputs": [],
      "source": [
        "import numpy as np\n",
        "import matplotlib.pyplot as plt\n",
        "import tensorflow as tf\n",
        "from tensorflow.keras import layers, models\n",
        "from tensorflow.keras.preprocessing.image import ImageDataGenerator\n",
        "from PIL import Image"
      ]
    },
    {
      "cell_type": "markdown",
      "source": [
        "**Step 2:Loading the Data from the Dataset**"
      ],
      "metadata": {
        "id": "JmegRq4VoV5A"
      }
    },
    {
      "cell_type": "code",
      "source": [
        "from google.colab import drive"
      ],
      "metadata": {
        "id": "a1_NUgZOoX04"
      },
      "execution_count": 2,
      "outputs": []
    },
    {
      "cell_type": "code",
      "source": [
        "drive.mount('/content/drive')"
      ],
      "metadata": {
        "colab": {
          "base_uri": "https://localhost:8080/"
        },
        "id": "SToEnjJqodzp",
        "outputId": "68cdf4e1-7f29-4a6a-af5e-003320fb4b7a"
      },
      "execution_count": 3,
      "outputs": [
        {
          "output_type": "stream",
          "name": "stdout",
          "text": [
            "Drive already mounted at /content/drive; to attempt to forcibly remount, call drive.mount(\"/content/drive\", force_remount=True).\n"
          ]
        }
      ]
    },
    {
      "cell_type": "code",
      "source": [
        "train_data_dir = '/content/drive/MyDrive/art_dataset/training_set'\n",
        "valid_data_dir = '/content/drive/MyDrive/art_dataset/validation_set'"
      ],
      "metadata": {
        "id": "DgeLKGj0PEaT"
      },
      "execution_count": 4,
      "outputs": []
    },
    {
      "cell_type": "markdown",
      "source": [
        "**Step 3:Data Preprocessing**"
      ],
      "metadata": {
        "id": "9IH69SeWPyG9"
      }
    },
    {
      "cell_type": "code",
      "source": [
        "train_datagen = ImageDataGenerator(rescale=1./255)\n",
        "train_generator = train_datagen.flow_from_directory(\n",
        "    train_data_dir,\n",
        "    target_size=(224, 224),\n",
        "    batch_size=32,\n",
        "    class_mode='categorical'\n",
        ")\n",
        "\n",
        "validation_datagen = ImageDataGenerator(rescale=1./255)\n",
        "validation_generator = validation_datagen.flow_from_directory(\n",
        "    valid_data_dir,\n",
        "    target_size=(224, 224),\n",
        "    batch_size=32,\n",
        "    class_mode='categorical'\n",
        ")\n"
      ],
      "metadata": {
        "colab": {
          "base_uri": "https://localhost:8080/"
        },
        "id": "NkFXrCiJzhM9",
        "outputId": "97e0824b-7c5f-4f87-c123-a8a14841f4c6"
      },
      "execution_count": 5,
      "outputs": [
        {
          "output_type": "stream",
          "name": "stdout",
          "text": [
            "Found 7720 images belonging to 5 classes.\n",
            "Found 856 images belonging to 5 classes.\n"
          ]
        }
      ]
    },
    {
      "cell_type": "markdown",
      "source": [
        "**Model 1:Sequential Model**"
      ],
      "metadata": {
        "id": "kf-vTNAkQJ89"
      }
    },
    {
      "cell_type": "markdown",
      "source": [
        "**Creating the Model**"
      ],
      "metadata": {
        "id": "-6Mydlh3Q1HG"
      }
    },
    {
      "cell_type": "code",
      "source": [
        "model = models.Sequential()\n",
        "model.add(layers.Conv2D(32, (3, 3), activation='relu', input_shape=(224, 224, 3)))\n",
        "model.add(layers.MaxPooling2D((2, 2)))\n",
        "model.add(layers.Conv2D(64, (3, 3), activation='relu'))\n",
        "model.add(layers.MaxPooling2D((2, 2)))\n",
        "model.add(layers.Conv2D(128, (3, 3), activation='relu'))\n",
        "model.add(layers.MaxPooling2D((2, 2)))\n",
        "model.add(layers.Flatten())\n",
        "model.add(layers.Dense(128, activation='relu'))\n",
        "model.add(layers.Dropout(0.5))\n",
        "model.add(layers.Dense(5, activation='softmax'))\n",
        "model.summary()"
      ],
      "metadata": {
        "colab": {
          "base_uri": "https://localhost:8080/"
        },
        "id": "V7q_-1eSz4c-",
        "outputId": "31ba4947-e807-4aa7-f942-2d267b0a7200"
      },
      "execution_count": 6,
      "outputs": [
        {
          "output_type": "stream",
          "name": "stdout",
          "text": [
            "Model: \"sequential\"\n",
            "_________________________________________________________________\n",
            " Layer (type)                Output Shape              Param #   \n",
            "=================================================================\n",
            " conv2d (Conv2D)             (None, 222, 222, 32)      896       \n",
            "                                                                 \n",
            " max_pooling2d (MaxPooling2  (None, 111, 111, 32)      0         \n",
            " D)                                                              \n",
            "                                                                 \n",
            " conv2d_1 (Conv2D)           (None, 109, 109, 64)      18496     \n",
            "                                                                 \n",
            " max_pooling2d_1 (MaxPoolin  (None, 54, 54, 64)        0         \n",
            " g2D)                                                            \n",
            "                                                                 \n",
            " conv2d_2 (Conv2D)           (None, 52, 52, 128)       73856     \n",
            "                                                                 \n",
            " max_pooling2d_2 (MaxPoolin  (None, 26, 26, 128)       0         \n",
            " g2D)                                                            \n",
            "                                                                 \n",
            " flatten (Flatten)           (None, 86528)             0         \n",
            "                                                                 \n",
            " dense (Dense)               (None, 128)               11075712  \n",
            "                                                                 \n",
            " dropout (Dropout)           (None, 128)               0         \n",
            "                                                                 \n",
            " dense_1 (Dense)             (None, 5)                 645       \n",
            "                                                                 \n",
            "=================================================================\n",
            "Total params: 11169605 (42.61 MB)\n",
            "Trainable params: 11169605 (42.61 MB)\n",
            "Non-trainable params: 0 (0.00 Byte)\n",
            "_________________________________________________________________\n"
          ]
        }
      ]
    },
    {
      "cell_type": "markdown",
      "source": [
        "**Compiling & Training the Model**"
      ],
      "metadata": {
        "id": "Npj_jru4Q5pq"
      }
    },
    {
      "cell_type": "code",
      "source": [
        "model.compile(optimizer='adam',\n",
        "              loss='categorical_crossentropy',\n",
        "              metrics=['accuracy'])\n",
        "\n",
        "# Train the model\n",
        "history = model.fit(\n",
        "    train_generator,\n",
        "    steps_per_epoch=50,\n",
        "    epochs=20,\n",
        "    validation_data=validation_generator,\n",
        "    validation_steps=50\n",
        ")"
      ],
      "metadata": {
        "colab": {
          "base_uri": "https://localhost:8080/"
        },
        "id": "UNt5kz1x0ONc",
        "outputId": "d633ff81-ccac-43a7-c92b-d7237df4695d"
      },
      "execution_count": 9,
      "outputs": [
        {
          "metadata": {
            "tags": null
          },
          "name": "stdout",
          "output_type": "stream",
          "text": [
            "Epoch 1/20\n",
            "50/50 [==============================] - ETA: 0s - loss: 0.9179 - accuracy: 0.6650 "
          ]
        },
        {
          "metadata": {
            "tags": null
          },
          "name": "stderr",
          "output_type": "stream",
          "text": [
            "WARNING:tensorflow:Your input ran out of data; interrupting training. Make sure that your dataset or generator can generate at least `steps_per_epoch * epochs` batches (in this case, 50 batches). You may need to use the repeat() function when building your dataset.\n"
          ]
        },
        {
          "metadata": {
            "tags": null
          },
          "name": "stdout",
          "output_type": "stream",
          "text": [
            "50/50 [==============================] - 948s 19s/step - loss: 0.9179 - accuracy: 0.6650 - val_loss: 0.6740 - val_accuracy: 0.7827\n",
            "Epoch 2/20\n",
            "50/50 [==============================] - 456s 9s/step - loss: 0.7133 - accuracy: 0.7475\n",
            "Epoch 3/20\n",
            "50/50 [==============================] - 369s 7s/step - loss: 0.6999 - accuracy: 0.7550\n",
            "Epoch 4/20\n",
            "50/50 [==============================] - 306s 6s/step - loss: 0.6617 - accuracy: 0.7650\n",
            "Epoch 5/20\n",
            "46/50 [==========================>...] - ETA: 17s - loss: 0.6028 - accuracy: 0.7928"
          ]
        },
        {
          "metadata": {
            "tags": null
          },
          "name": "stderr",
          "output_type": "stream",
          "text": [
            "/usr/local/lib/python3.10/dist-packages/PIL/Image.py:996: UserWarning: Palette images with Transparency expressed in bytes should be converted to RGBA images\n",
            "  warnings.warn(\n"
          ]
        },
        {
          "output_type": "stream",
          "name": "stdout",
          "text": [
            "50/50 [==============================] - 228s 4s/step - loss: 0.6102 - accuracy: 0.7900\n",
            "Epoch 6/20\n",
            "50/50 [==============================] - 209s 4s/step - loss: 0.5750 - accuracy: 0.8037\n",
            "Epoch 7/20\n",
            "50/50 [==============================] - 201s 4s/step - loss: 0.5633 - accuracy: 0.7987\n",
            "Epoch 8/20\n",
            "50/50 [==============================] - 206s 4s/step - loss: 0.5515 - accuracy: 0.8156\n",
            "Epoch 9/20\n",
            "50/50 [==============================] - 203s 4s/step - loss: 0.4543 - accuracy: 0.8425\n",
            "Epoch 10/20\n",
            "50/50 [==============================] - 199s 4s/step - loss: 0.4413 - accuracy: 0.8450\n",
            "Epoch 11/20\n",
            "50/50 [==============================] - 212s 4s/step - loss: 0.4742 - accuracy: 0.8381\n",
            "Epoch 12/20\n",
            "50/50 [==============================] - 200s 4s/step - loss: 0.4237 - accuracy: 0.8512\n",
            "Epoch 13/20\n",
            "50/50 [==============================] - 194s 4s/step - loss: 0.3921 - accuracy: 0.8610\n",
            "Epoch 14/20\n",
            "50/50 [==============================] - 207s 4s/step - loss: 0.3990 - accuracy: 0.8581\n",
            "Epoch 15/20\n",
            "50/50 [==============================] - 197s 4s/step - loss: 0.3575 - accuracy: 0.8806\n",
            "Epoch 16/20\n",
            "50/50 [==============================] - 197s 4s/step - loss: 0.3963 - accuracy: 0.8662\n",
            "Epoch 17/20\n",
            "50/50 [==============================] - 197s 4s/step - loss: 0.3861 - accuracy: 0.8591\n",
            "Epoch 18/20\n",
            "50/50 [==============================] - 200s 4s/step - loss: 0.3482 - accuracy: 0.8788\n",
            "Epoch 19/20\n",
            "50/50 [==============================] - 198s 4s/step - loss: 0.3233 - accuracy: 0.8915\n",
            "Epoch 20/20\n",
            "50/50 [==============================] - 202s 4s/step - loss: 0.3170 - accuracy: 0.8919\n"
          ]
        }
      ]
    },
    {
      "cell_type": "markdown",
      "source": [
        "**Evaluation of Model and Plot**"
      ],
      "metadata": {
        "id": "UYV5KWIxt9uM"
      }
    },
    {
      "cell_type": "code",
      "source": [
        "accuracy = model.evaluate(validation_generator, steps=50)[1]\n",
        "print(f\"Validation Accuracy: {accuracy * 100:.2f}%\")"
      ],
      "metadata": {
        "colab": {
          "base_uri": "https://localhost:8080/"
        },
        "id": "1n_F285ao-ux",
        "outputId": "60602800-3dcb-45d7-fd0e-6c2bde0c224a"
      },
      "execution_count": 27,
      "outputs": [
        {
          "output_type": "stream",
          "name": "stdout",
          "text": [
            "27/50 [===============>..............] - ETA: 56s - loss: 0.5028 - accuracy: 0.8119 "
          ]
        },
        {
          "output_type": "stream",
          "name": "stderr",
          "text": [
            "WARNING:tensorflow:Your input ran out of data; interrupting training. Make sure that your dataset or generator can generate at least `steps_per_epoch * epochs` batches (in this case, 50 batches). You may need to use the repeat() function when building your dataset.\n"
          ]
        },
        {
          "output_type": "stream",
          "name": "stdout",
          "text": [
            "\b\b\b\b\b\b\b\b\b\b\b\b\b\b\b\b\b\b\b\b\b\b\b\b\b\b\b\b\b\b\b\b\b\b\b\b\b\b\b\b\b\b\b\b\b\b\b\b\b\b\b\b\b\b\b\b\b\b\b\b\b\b\b\b\b\b\b\b\b\b\b\b\b\b\b\b\b\b\b\b\b\b\b\r50/50 [==============================] - 65s 1s/step - loss: 0.5028 - accuracy: 0.8119\n",
            "Validation Accuracy: 81.19%\n"
          ]
        }
      ]
    },
    {
      "cell_type": "code",
      "source": [
        "plt.subplot(1, 2, 1)\n",
        "plt.plot(history.history['accuracy'])\n",
        "plt.title('Sequential Model Accuracy')\n",
        "plt.xlabel('Epoch')\n",
        "plt.ylabel('Accuracy')\n",
        "plt.legend(['Training', 'Validation'], loc='upper left')\n",
        "\n",
        "# Plot training & validation loss values\n",
        "plt.subplot(1, 2, 2)\n",
        "plt.plot(history.history['loss'])\n",
        "plt.title('Sequential Model Loss')\n",
        "plt.xlabel('Epoch')\n",
        "plt.ylabel('Loss')\n",
        "plt.legend(['Training', 'Validation'], loc='upper left')\n",
        "\n",
        "plt.tight_layout()\n",
        "plt.show()"
      ],
      "metadata": {
        "colab": {
          "base_uri": "https://localhost:8080/",
          "height": 487
        },
        "id": "RnVm9hAfpWro",
        "outputId": "65ce4928-160d-480b-87a5-2dcaefc70388"
      },
      "execution_count": 38,
      "outputs": [
        {
          "output_type": "display_data",
          "data": {
            "text/plain": [
              "<Figure size 640x480 with 2 Axes>"
            ],
            "image/png": "[encoded data removed]"
          },
          "metadata": {}
        }
      ]
    },
    {
      "cell_type": "code",
      "source": [
        "from sklearn.datasets import load_files\n",
        "import numpy as np\n",
        "\n",
        "test_dir = valid_data_dir\n",
        "\n",
        "#function to load the dataset\n",
        "def load_dataset(path):\n",
        "    data = load_files(path)\n",
        "    files = np.array(data['filenames'])\n",
        "    targets = np.array(data['target'])\n",
        "    target_labels = np.array(data['target_names'])\n",
        "    return files,targets,target_labels\n",
        "\n",
        "x_test, y_test,target_labels = load_dataset(test_dir)"
      ],
      "metadata": {
        "id": "fF-3bkhZ8Cd3"
      },
      "execution_count": 47,
      "outputs": []
    },
    {
      "cell_type": "code",
      "source": [
        "from keras.utils import to_categorical\n",
        "\n",
        "no_of_classes = 5\n",
        "\n",
        "# Convert labels to one-hot encoded format\n",
        "y_test = to_categorical(y_test, no_of_classes)"
      ],
      "metadata": {
        "id": "pVJBexjm89Mc"
      },
      "execution_count": 55,
      "outputs": []
    },
    {
      "cell_type": "code",
      "source": [
        "def convert_image_to_array(image):\n",
        "   def convert_image_to_array(files):\n",
        "    images_as_array=[]\n",
        "    for file in files:\n",
        "        # Convert to Numpy Array\n",
        "        images_as_array.append(img_to_array(load_img(file)))\n",
        "    return images_as_array\n",
        "    return processed_image_array\n",
        "\n",
        "# Apply the conversion to all images in x_test\n",
        "x_test = [convert_image_to_array(image) for image in x_test]\n",
        "\n",
        "# Convert the list of processed images to a NumPy array\n",
        "x_test = np.array(x_test)\n",
        "print('Test set shape : ',x_test.shape)"
      ],
      "metadata": {
        "colab": {
          "base_uri": "https://localhost:8080/"
        },
        "id": "Fk6EOuR89f0u",
        "outputId": "3730bd3c-ee4e-4a8c-b40f-6a92f9cba284"
      },
      "execution_count": 59,
      "outputs": [
        {
          "output_type": "stream",
          "name": "stdout",
          "text": [
            "Test set shape :  (856,)\n"
          ]
        }
      ]
    },
    {
      "cell_type": "code",
      "source": [
        "from sklearn.metrics import confusion_matrix\n",
        "import numpy as np\n",
        "import seaborn as sns\n",
        "import matplotlib.pyplot as plt\n",
        "\n",
        "# Generate confusion matrix\n",
        "conf_matrix = confusion_matrix(y_true, y_pred)\n",
        "\n",
        "# Plot confusion matrix using seaborn\n",
        "plt.figure(figsize=(8, 6))\n",
        "sns.heatmap(conf_matrix, annot=True, fmt='d', cmap='Blues', xticklabels=np.unique(y_true), yticklabels=np.unique(y_true))\n",
        "plt.title('Confusion Matrix')\n",
        "plt.xlabel('Predicted')\n",
        "plt.ylabel('True')\n",
        "plt.show()\n"
      ],
      "metadata": {
        "colab": {
          "base_uri": "https://localhost:8080/",
          "height": 564
        },
        "id": "-9JBy9Qs5TEu",
        "outputId": "9551cd18-a702-44aa-c339-b2f6ee249e80"
      },
      "execution_count": 60,
      "outputs": [
        {
          "output_type": "display_data",
          "data": {
            "text/plain": [
              "<Figure size 800x600 with 2 Axes>"
            ],
            "image/png": "[encoded data removed]"
          },
          "metadata": {}
        }
      ]
    }
  ]
}